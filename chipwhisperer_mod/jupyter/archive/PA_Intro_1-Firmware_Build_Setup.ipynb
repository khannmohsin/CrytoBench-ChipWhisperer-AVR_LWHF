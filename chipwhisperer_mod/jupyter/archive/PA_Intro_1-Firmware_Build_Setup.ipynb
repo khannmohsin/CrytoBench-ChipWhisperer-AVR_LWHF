{
 "cells": [
  {
   "cell_type": "markdown",
   "metadata": {},
   "source": [
    "# Firmware Build Setup\n",
    "\n",
    "Supported setups:\n",
    "\n",
    "SCOPES:\n",
    "\n",
    "* OPENADC\n",
    "* CWNANO\n",
    "\n",
    "PLATFORMS:\n",
    "\n",
    "* CWLITEARM\n",
    "* CWLITEXMEGA\n",
    "* CWNANO"
   ]
  },
  {
   "cell_type": "markdown",
   "metadata": {},
   "source": [
    "This tutorial will introduce you to the software side of ChipWhisperer, including the tutorials themselves. It will also show you how to perform different operations on data based on input from the ChipWhisperer software. This can be used for building your own system which you wish to 'break'. All the `%%bash` blocks can be run either in Jupyter or in your favourite command line environment (note that Jupyter resets your path between blocks).\n",
    "\n",
    "If you haven't run through `!!Introduction_to_Jupyter!!.ipynb` do that now.\n",
    "\n",
    "Assuming you've done that, we can get started on the tutorial."
   ]
  },
  {
   "cell_type": "code",
   "execution_count": 90,
   "metadata": {},
   "outputs": [],
   "source": [
    "SCOPETYPE = 'OPENADC'\n",
    "PLATFORM = 'CWLITEARM'"
   ]
  },
  {
   "cell_type": "markdown",
   "metadata": {},
   "source": [
    "## What is SimpleSerial"
   ]
  },
  {
   "cell_type": "markdown",
   "metadata": {},
   "source": [
    "SimpleSerial is the communications protocol used for almost all of the ChipWhisperer demo project. It's a very basic serial protocol which can be easily implemented on most systems. This system communicates using a standard asyncronous serial protocol, 38400 baud, 8-N-1.\n",
    "\n",
    "All messages are sent in ASCII-text, and are normally terminated with a line-feed (`'\\n'`). This allows you to interact with the simpleserial system over a standard terminal emulator.\n",
    "\n",
    "`x`\n",
    "\n",
    "> Sending a 'x' resets the buffers. This does not require a line-feed termination. It is suggested to always send a stream of x's to initialize the system in case the device was already in some other mode due to noise/corruption.\n",
    "\n",
    "`k00112233445566778899AABBCCDDEEFF\\n`\n",
    "\n",
    "> Loads the encryption key `00112233445566778899AABBCCDDEEFF` into the system. If not called the system may use some default key.\n",
    "\n",
    "`pAABBCCDDEEFF00112233445566778899\\n`\n",
    "\n",
    "> Encrypts the data `AABBCCDDEEFF00112233445566778899` with the key loaded with the 'k' command. The system will respond with a string starting with r, as shown next.\n",
    "\n",
    "`rCBBD4A2B34F2571758FF6A797E09859D\\n`\n",
    "\n",
    "> This is the response from the system. If data has been encrypted with a 'p' for example, the system will respond with the 'r' sequence automatically. So sending the earlier example means the result of the encryption was `cbbd4a2b34f2571758ff6a797e09859d`."
   ]
  },
  {
   "cell_type": "markdown",
   "metadata": {},
   "source": [
    "## Building the Basic Example"
   ]
  },
  {
   "cell_type": "markdown",
   "metadata": {},
   "source": [
    "To bulid the basic example, you'll need an appropriate compiler for your target. For the ChipWhisperer Lite/Xmega platform, you'll need `avr-gcc` and `avr-libc`, while if you're using an ARM target (like the ChipWhisperer Lite/STM32 platform), your need the GNU Toolchain for ARM devices. If you're using a target with a different architecture, you'll need to install the relevant compiler. If you're unsure, you can run the block below. If you've got the right stuff installed, you should see some version and copyright info printed for the relevant compiler:"
   ]
  },
  {
   "cell_type": "code",
   "execution_count": 73,
   "metadata": {},
   "outputs": [
    {
     "name": "stdout",
     "output_type": "stream",
     "text": [
      "avr-gcc (Homebrew AVR GCC 9.4.0_1) 9.4.0\n",
      "Copyright (C) 2019 Free Software Foundation, Inc.\n",
      "This is free software; see the source for copying conditions.  There is NO\n",
      "warranty; not even for MERCHANTABILITY or FITNESS FOR A PARTICULAR PURPOSE.\n",
      "\n",
      "arm-none-eabi-gcc (GCC) 14.2.0\n",
      "Copyright (C) 2024 Free Software Foundation, Inc.\n",
      "This is free software; see the source for copying conditions.  There is NO\n",
      "warranty; not even for MERCHANTABILITY or FITNESS FOR A PARTICULAR PURPOSE.\n",
      "\n"
     ]
    }
   ],
   "source": [
    "%%bash\n",
    "#check for avr-gcc\n",
    "avr-gcc --version\n",
    "\n",
    "#check for ARM gcc\n",
    "arm-none-eabi-gcc --version"
   ]
  },
  {
   "cell_type": "markdown",
   "metadata": {},
   "source": [
    "Now that you have the relevant toolchain installed, you should be able to build firmware for your desired platform. We'll begin by creating a new project based on simpleserial-base by making a new firmware and copying the files from the project we want to work on:"
   ]
  },
  {
   "cell_type": "code",
   "execution_count": 21,
   "metadata": {},
   "outputs": [
    {
     "name": "stdout",
     "output_type": "stream",
     "text": [
      "/Users/khannmohsin/Chipwhispere_vscode/chipwhisperer/jupyter/archive\n",
      "/Users/khannmohsin/Chipwhispere_vscode/chipwhisperer/firmware/mcu\n"
     ]
    }
   ],
   "source": [
    "%%bash\n",
    "pwd\n",
    "# cd ../hardware/victims/firmware/\n",
    "cd ../../firmware/mcu/\n",
    "pwd\n",
    "mkdir -p simpleserial-base-lab1 && cp -r simpleserial-base/* $_\n",
    "cd simpleserial-base-lab1"
   ]
  },
  {
   "cell_type": "markdown",
   "metadata": {},
   "source": [
    "Next we'll build the firmware. You'll need to specify the `PLATFORM` and `CRYPTO_TARGET` for your target. To save you from having to re-enter this info in every make block, you can edit the python below with your platform and crypto_target.\n",
    "\n",
    "Common platforms are CWLITEXMEGA and CWLITEARM. To see a list of platforms leave `PLATFORM` as is.\n",
    "\n",
    "This tutorial doesn't use any crypto, so we can leave `CRYPTO_TARGET` as `NONE`."
   ]
  },
  {
   "cell_type": "code",
   "execution_count": 91,
   "metadata": {},
   "outputs": [],
   "source": [
    "PLATFORM = \"CWLITEXMEGA\"\n",
    "CRYPTO_TARGET = \"NONE\" "
   ]
  },
  {
   "cell_type": "markdown",
   "metadata": {},
   "source": [
    "Provided you completed the fields above, you should be able to successfully run the block below."
   ]
  },
  {
   "cell_type": "code",
   "execution_count": 97,
   "metadata": {},
   "outputs": [
    {
     "name": "stdout",
     "output_type": "stream",
     "text": [
      "SS_VER set to SS_VER_1_1\n",
      "SS_VER set to SS_VER_1_1\n",
      ".\n",
      "Welcome to another exciting ChipWhisperer target build!!\n",
      "avr-gcc (Homebrew AVR GCC 9.4.0_1) 9.4.0\n",
      "Copyright (C) 2019 Free Software Foundation, Inc.\n",
      "This is free software; see the source for copying conditions.  There is NO\n",
      "warranty; not even for MERCHANTABILITY or FITNESS FOR A PARTICULAR PURPOSE.\n",
      "\n",
      ".\n",
      "Compiling:\n",
      "-en     simpleserial-base.c ...\n"
     ]
    },
    {
     "name": "stderr",
     "output_type": "stream",
     "text": [
      "simpleserial-base.c:6: warning: \"F_CPU\" redefined\n",
      "    6 | #define F_CPU 2000000UL\n",
      "      | \n",
      "<command-line>: note: this is the location of the previous definition\n",
      "simpleserial-base.c: In function 'get_pt':\n",
      "simpleserial-base.c:48:9: error: 'state' undeclared (first use in this function)\n",
      "   48 |     if (state) {\n",
      "      |         ^~~~~\n",
      "simpleserial-base.c:48:9: note: each undeclared identifier is reported only once for each function it appears in\n",
      "make: *** [objdir-CWLITEXMEGA/simpleserial-base.o] Error 1\n"
     ]
    },
    {
     "ename": "CalledProcessError",
     "evalue": "Command 'b'# cd ../hardware/victims/firmware/simpleserial-base-lab1\\ncd ../../firmware/mcu/simpleserial-base-lab1\\nmake PLATFORM=$1 CRYPTO_TARGET=$2\\n'' returned non-zero exit status 2.",
     "output_type": "error",
     "traceback": [
      "\u001b[0;31m---------------------------------------------------------------------------\u001b[0m",
      "\u001b[0;31mCalledProcessError\u001b[0m                        Traceback (most recent call last)",
      "Cell \u001b[0;32mIn[97], line 1\u001b[0m\n\u001b[0;32m----> 1\u001b[0m \u001b[43mget_ipython\u001b[49m\u001b[43m(\u001b[49m\u001b[43m)\u001b[49m\u001b[38;5;241;43m.\u001b[39;49m\u001b[43mrun_cell_magic\u001b[49m\u001b[43m(\u001b[49m\u001b[38;5;124;43m'\u001b[39;49m\u001b[38;5;124;43mbash\u001b[39;49m\u001b[38;5;124;43m'\u001b[39;49m\u001b[43m,\u001b[49m\u001b[43m \u001b[49m\u001b[38;5;124;43m'\u001b[39;49m\u001b[38;5;124;43m-s \u001b[39;49m\u001b[38;5;124;43m\"\u001b[39;49m\u001b[38;5;124;43m$PLATFORM\u001b[39;49m\u001b[38;5;124;43m\"\u001b[39;49m\u001b[38;5;124;43m \u001b[39;49m\u001b[38;5;124;43m\"\u001b[39;49m\u001b[38;5;124;43m$CRYPTO_TARGET\u001b[39;49m\u001b[38;5;124;43m\"\u001b[39;49m\u001b[38;5;124;43m'\u001b[39;49m\u001b[43m,\u001b[49m\u001b[43m \u001b[49m\u001b[38;5;124;43m'\u001b[39;49m\u001b[38;5;124;43m# cd ../hardware/victims/firmware/simpleserial-base-lab1\u001b[39;49m\u001b[38;5;130;43;01m\\n\u001b[39;49;00m\u001b[38;5;124;43mcd ../../firmware/mcu/simpleserial-base-lab1\u001b[39;49m\u001b[38;5;130;43;01m\\n\u001b[39;49;00m\u001b[38;5;124;43mmake PLATFORM=$1 CRYPTO_TARGET=$2\u001b[39;49m\u001b[38;5;130;43;01m\\n\u001b[39;49;00m\u001b[38;5;124;43m'\u001b[39;49m\u001b[43m)\u001b[49m\n",
      "File \u001b[0;32m~/Chipwhispere_vscode/cw_env/lib/python3.9/site-packages/IPython/core/interactiveshell.py:2517\u001b[0m, in \u001b[0;36mInteractiveShell.run_cell_magic\u001b[0;34m(self, magic_name, line, cell)\u001b[0m\n\u001b[1;32m   2515\u001b[0m \u001b[38;5;28;01mwith\u001b[39;00m \u001b[38;5;28mself\u001b[39m\u001b[38;5;241m.\u001b[39mbuiltin_trap:\n\u001b[1;32m   2516\u001b[0m     args \u001b[38;5;241m=\u001b[39m (magic_arg_s, cell)\n\u001b[0;32m-> 2517\u001b[0m     result \u001b[38;5;241m=\u001b[39m \u001b[43mfn\u001b[49m\u001b[43m(\u001b[49m\u001b[38;5;241;43m*\u001b[39;49m\u001b[43margs\u001b[49m\u001b[43m,\u001b[49m\u001b[43m \u001b[49m\u001b[38;5;241;43m*\u001b[39;49m\u001b[38;5;241;43m*\u001b[39;49m\u001b[43mkwargs\u001b[49m\u001b[43m)\u001b[49m\n\u001b[1;32m   2519\u001b[0m \u001b[38;5;66;03m# The code below prevents the output from being displayed\u001b[39;00m\n\u001b[1;32m   2520\u001b[0m \u001b[38;5;66;03m# when using magics with decorator @output_can_be_silenced\u001b[39;00m\n\u001b[1;32m   2521\u001b[0m \u001b[38;5;66;03m# when the last Python token in the expression is a ';'.\u001b[39;00m\n\u001b[1;32m   2522\u001b[0m \u001b[38;5;28;01mif\u001b[39;00m \u001b[38;5;28mgetattr\u001b[39m(fn, magic\u001b[38;5;241m.\u001b[39mMAGIC_OUTPUT_CAN_BE_SILENCED, \u001b[38;5;28;01mFalse\u001b[39;00m):\n",
      "File \u001b[0;32m~/Chipwhispere_vscode/cw_env/lib/python3.9/site-packages/IPython/core/magics/script.py:154\u001b[0m, in \u001b[0;36mScriptMagics._make_script_magic.<locals>.named_script_magic\u001b[0;34m(line, cell)\u001b[0m\n\u001b[1;32m    152\u001b[0m \u001b[38;5;28;01melse\u001b[39;00m:\n\u001b[1;32m    153\u001b[0m     line \u001b[38;5;241m=\u001b[39m script\n\u001b[0;32m--> 154\u001b[0m \u001b[38;5;28;01mreturn\u001b[39;00m \u001b[38;5;28;43mself\u001b[39;49m\u001b[38;5;241;43m.\u001b[39;49m\u001b[43mshebang\u001b[49m\u001b[43m(\u001b[49m\u001b[43mline\u001b[49m\u001b[43m,\u001b[49m\u001b[43m \u001b[49m\u001b[43mcell\u001b[49m\u001b[43m)\u001b[49m\n",
      "File \u001b[0;32m~/Chipwhispere_vscode/cw_env/lib/python3.9/site-packages/IPython/core/magics/script.py:314\u001b[0m, in \u001b[0;36mScriptMagics.shebang\u001b[0;34m(self, line, cell)\u001b[0m\n\u001b[1;32m    309\u001b[0m \u001b[38;5;28;01mif\u001b[39;00m args\u001b[38;5;241m.\u001b[39mraise_error \u001b[38;5;129;01mand\u001b[39;00m p\u001b[38;5;241m.\u001b[39mreturncode \u001b[38;5;241m!=\u001b[39m \u001b[38;5;241m0\u001b[39m:\n\u001b[1;32m    310\u001b[0m     \u001b[38;5;66;03m# If we get here and p.returncode is still None, we must have\u001b[39;00m\n\u001b[1;32m    311\u001b[0m     \u001b[38;5;66;03m# killed it but not yet seen its return code. We don't wait for it,\u001b[39;00m\n\u001b[1;32m    312\u001b[0m     \u001b[38;5;66;03m# in case it's stuck in uninterruptible sleep. -9 = SIGKILL\u001b[39;00m\n\u001b[1;32m    313\u001b[0m     rc \u001b[38;5;241m=\u001b[39m p\u001b[38;5;241m.\u001b[39mreturncode \u001b[38;5;129;01mor\u001b[39;00m \u001b[38;5;241m-\u001b[39m\u001b[38;5;241m9\u001b[39m\n\u001b[0;32m--> 314\u001b[0m     \u001b[38;5;28;01mraise\u001b[39;00m CalledProcessError(rc, cell)\n",
      "\u001b[0;31mCalledProcessError\u001b[0m: Command 'b'# cd ../hardware/victims/firmware/simpleserial-base-lab1\\ncd ../../firmware/mcu/simpleserial-base-lab1\\nmake PLATFORM=$1 CRYPTO_TARGET=$2\\n'' returned non-zero exit status 2."
     ]
    }
   ],
   "source": [
    "%%bash -s \"$PLATFORM\" \"$CRYPTO_TARGET\"\n",
    "# cd ../hardware/victims/firmware/simpleserial-base-lab1\n",
    "cd ../../firmware/mcu/simpleserial-base-lab1\n",
    "make PLATFORM=$1 CRYPTO_TARGET=$2"
   ]
  },
  {
   "cell_type": "markdown",
   "metadata": {},
   "source": [
    "## Modifying the Basic Example"
   ]
  },
  {
   "cell_type": "markdown",
   "metadata": {},
   "source": [
    "At this point we want to modify the system to perform 'something' with the data, such that we can confirm the system is working. To do so, open the file `simpleserial-base.c` in the simpleserial-base-lab1 folder with a code editor such as Programmer's Notepad (which ships with WinAVR).\n",
    "\n",
    "Find the following code block towards the end of the file:\n",
    "\n",
    "```C\n",
    "/**********************************\n",
    " * Start user-specific code here. */\n",
    "trigger_high();\n",
    "\n",
    "//16 hex bytes held in 'pt' were sent\n",
    "//from the computer. Store your response\n",
    "//back into 'pt', which will send 16 bytes\n",
    "//back to computer. Can ignore of course if\n",
    "//not needed\n",
    "\n",
    "trigger_low();\n",
    "/* End user-specific code here. *\n",
    "```\n",
    "\n",
    "Now modify it to increment the value of each data byte:\n",
    "\n",
    "```C\n",
    "/**********************************\n",
    " * Start user-specific code here. */\n",
    "trigger_high();\n",
    "\n",
    "//16 hex bytes held in 'pt' were sent\n",
    "//from the computer. Store your response\n",
    "//back into 'pt', which will send 16 bytes\n",
    "//back to computer. Can ignore of course if\n",
    "//not needed\n",
    "\n",
    "for(int i = 0; i < 16; i++){\n",
    "    pt[i]++;\n",
    "}\n",
    "\n",
    "trigger_low();\n",
    "/* End user-specific code here. *\n",
    " ********************************/\n",
    "```\n",
    "\n",
    "Then rebuild the file with `make`:"
   ]
  },
  {
   "cell_type": "code",
   "execution_count": 76,
   "metadata": {},
   "outputs": [
    {
     "name": "stdout",
     "output_type": "stream",
     "text": [
      "SS_VER set to SS_VER_1_1\n",
      "SS_VER set to SS_VER_1_1\n",
      ".\n",
      "Welcome to another exciting ChipWhisperer target build!!\n",
      "avr-gcc (Homebrew AVR GCC 9.4.0_1) 9.4.0\n",
      "Copyright (C) 2019 Free Software Foundation, Inc.\n",
      "This is free software; see the source for copying conditions.  There is NO\n",
      "warranty; not even for MERCHANTABILITY or FITNESS FOR A PARTICULAR PURPOSE.\n",
      "\n",
      "Size after:\n",
      "   text\t   data\t    bss\t    dec\t    hex\tfilename\n",
      "   2256\t     16\t     98\t   2370\t    942\tsimpleserial-base-CWLITEXMEGA.elf\n",
      "+--------------------------------------------------------\n",
      "+ Built for platform CW-Lite XMEGA with:\n",
      "+ CRYPTO_TARGET = NONE\n",
      "+ CRYPTO_OPTIONS = AES128C\n",
      "+--------------------------------------------------------\n"
     ]
    }
   ],
   "source": [
    "%%bash -s \"$PLATFORM\" \"$CRYPTO_TARGET\"\n",
    "# cd ../hardware/victims/firmware/simpleserial-base-lab1\n",
    "cd ../../firmware/mcu/simpleserial-base-lab1\n",
    "make PLATFORM=$1 CRYPTO_TARGET=$2"
   ]
  },
  {
   "cell_type": "markdown",
   "metadata": {},
   "source": [
    "## Python Script"
   ]
  },
  {
   "cell_type": "markdown",
   "metadata": {},
   "source": [
    "We'll end by uploading the firmware onto the target and communicating with it via a python script. Depending on your target, uploading firmware will be different. For the XMega and STM32 targets, you can use ChipWhisperer's interface. Otherwise, you'll likely need to use and external programmer. If you have a CW1173/Xmega board, you can run the following blocks without modification. After running the final block, you should see two sets of hexadecimal numbers, with the second having values one higher than the first."
   ]
  },
  {
   "cell_type": "markdown",
   "metadata": {},
   "source": [
    "We'll begin by importing the ChipWhisperer module. This will allow us to connect to and communicate with the ChipWhisperer hardware. The ChipWhisperer module also includes analysis software, which we'll be looking at in later tutorials."
   ]
  },
  {
   "cell_type": "code",
   "execution_count": 77,
   "metadata": {},
   "outputs": [],
   "source": [
    "import chipwhisperer as cw"
   ]
  },
  {
   "cell_type": "markdown",
   "metadata": {},
   "source": [
    "Documentation is available on [ReadtheDocs](https://chipwhisperer.readthedocs.io/en/latest/api.html) or by calling `help()` on the module, submodule, function, etc.:"
   ]
  },
  {
   "cell_type": "code",
   "execution_count": null,
   "metadata": {},
   "outputs": [],
   "source": [
    "help(cw)"
   ]
  },
  {
   "cell_type": "markdown",
   "metadata": {},
   "source": [
    "Next we'll need to connect to the scope end of the hardware. Starting with ChipWhisperer 5.1, `cw.scope` will attempt to autodetect which scope type you have (though if you have multiple ChipWhisperers connected, you'll need to specify the serial number). If you'd like, you can still specify the scope type."
   ]
  },
  {
   "cell_type": "code",
   "execution_count": 78,
   "metadata": {},
   "outputs": [],
   "source": [
    "scope = cw.scope()"
   ]
  },
  {
   "cell_type": "code",
   "execution_count": 69,
   "metadata": {},
   "outputs": [
    {
     "name": "stdout",
     "output_type": "stream",
     "text": [
      "Help on OpenADC in module chipwhisperer.capture.scopes.OpenADC object:\n",
      "\n",
      "class OpenADC(chipwhisperer.common.utils.util.DisableNewAttr, chipwhisperer.capture.api.cwcommon.ChipWhispererCommonInterface)\n",
      " |  Method resolution order:\n",
      " |      OpenADC\n",
      " |      chipwhisperer.common.utils.util.DisableNewAttr\n",
      " |      chipwhisperer.capture.api.cwcommon.ChipWhispererCommonInterface\n",
      " |      builtins.object\n",
      " |  \n",
      " |  Methods defined here:\n",
      " |  \n",
      " |  __enter__(self)\n",
      " |  \n",
      " |  __exit__(self, type, value, traceback)\n",
      " |  \n",
      " |  __init__(self)\n",
      " |      Initialize self.  See help(type(self)) for accurate signature.\n",
      " |  \n",
      " |  __repr__(self)\n",
      " |      Return repr(self).\n",
      " |  \n",
      " |  __str__(self)\n",
      " |      Return str(self).\n",
      " |  \n",
      " |  adc_test(self, samples=131070, reps=3, verbose=False)\n",
      " |      Run a series of ADC sampling tests on CW-Husky.\n",
      " |      \n",
      " |      Useful when pushing the ADC sampling frequency, to get an idea (but\n",
      " |      not a guarantee!) of whether Husky is able to sample properly at\n",
      " |      this frequency. Officially, Husky supports a maximum sampling clock\n",
      " |      of 200 MHz. In practice, sampling rates exceeding 300 MHz have been\n",
      " |      seen to work.\n",
      " |      \n",
      " |      Runs three different tests. For each test, we capture the sample\n",
      " |      test data and verify that it's what it should be:\n",
      " |      \n",
      " |      1. The internal test does not involve the ADC; it only verifies\n",
      " |      whether the FPGA sampling circuitry is functioning correctly, by\n",
      " |      generating a ramp pattern inside the FPGA itself.\n",
      " |      \n",
      " |      2. The ADC ramp test uses an ADC-generated ramp pattern which is\n",
      " |      then sampled by the FPGA.\n",
      " |      \n",
      " |      3. The ADC alternating test uses an ADC-generated alternating\n",
      " |      pattern (0x555 / 0xaaa). which is then sampled by the FPGA. The\n",
      " |      purpose of this test is that the ADC value changes every clock\n",
      " |      cycle, whereas in the ADC ramp test, the ADC value changes every *4*\n",
      " |      clock cycles.\n",
      " |      \n",
      " |      Note that this test does nothing to validate that the ADC's analog\n",
      " |      front-end is working properly!\n",
      " |      \n",
      " |      Args:\n",
      " |          samples (int): number of ADC samples per test.\n",
      " |          reps (int): number of times each test is run.\n",
      " |          verbose (bool)\n",
      " |      \n",
      " |      Returns:\n",
      " |          \"pass\" / \"fail\"\n",
      " |      \n",
      " |      .. versionadded:: 5.6.1\n",
      " |      \n",
      " |      :meta private:\n",
      " |  \n",
      " |  arm(self)\n",
      " |      Setup scope to begin capture/glitching when triggered.\n",
      " |      \n",
      " |      The scope must be armed before capture or glitching (when set to\n",
      " |      'ext_single') can begin.\n",
      " |      \n",
      " |      Raises:\n",
      " |         OSError: Scope isn't connected.\n",
      " |         Exception: Error when arming. This method catches these and\n",
      " |             disconnects before reraising them.\n",
      " |  \n",
      " |  capture(self, poll_done: bool = False) -> bool\n",
      " |      Captures trace. Scope must be armed before capturing.\n",
      " |      \n",
      " |      Blocks until scope triggered (or times out),\n",
      " |      then disarms scope and copies data back.\n",
      " |      \n",
      " |      Read captured data out with :code:`scope.get_last_trace()`\n",
      " |      \n",
      " |      Args:\n",
      " |          poll_done: Supported by Husky only. Poll\n",
      " |              Husky to find out when it's done capturing, instead of\n",
      " |              calculating the capture time based on the capture parameters.\n",
      " |              Can result in slightly faster captures when the number of\n",
      " |              samples is high. Defaults to False.\n",
      " |      Returns:\n",
      " |         True if capture timed out, false if it didn't.\n",
      " |      \n",
      " |      Raises:\n",
      " |         IOError: Unknown failure.\n",
      " |      \n",
      " |      .. versionchanged:: 5.6.1\n",
      " |          Added poll_done parameter for Husky\n",
      " |  \n",
      " |  capture_segmented(self)\n",
      " |      Captures trace in segment mode, returns as many segments as buffer holds.\n",
      " |      \n",
      " |      Timeouts not handled yet properly (function will lock). Be sure you are generating\n",
      " |      enough triggers for segmented mode.\n",
      " |      \n",
      " |      Returns:\n",
      " |         True if capture timed out, false if it didn't.\n",
      " |      \n",
      " |      Raises:\n",
      " |         IOError: Unknown failure.\n",
      " |      \n",
      " |      .. versionadded:: 5.5\n",
      " |          Added segmented capture (requires custom bitstream)\n",
      " |  \n",
      " |  cglitch_setup(self, default_setup=True)\n",
      " |      Sets up sane defaults for clock glitching\n",
      " |      \n",
      " |      * glitch clk_src = clkgen\n",
      " |      * output = clock_xor\n",
      " |      * trigger_src = ext_single\n",
      " |      * hs2 = glitch\n",
      " |      * LP and HP glitch disabled\n",
      " |  \n",
      " |  con(self, sn=None, idProduct=None, bitstream=None, force=False, prog_speed=10000000.0, **kwargs)\n",
      " |      Connects to attached chipwhisperer hardware (Lite, Pro, or Husky)\n",
      " |      \n",
      " |      Args:\n",
      " |          sn (str): The serial number of the attached device. Does not need to\n",
      " |              be specified unless there are multiple devices attached.\n",
      " |          idProduct (int): The product ID of the ChipWhisperer. If None, autodetects product ID. Optional.\n",
      " |          bitstream (str): Path to bitstream to program. If None, programs default bitstream. Optional.\n",
      " |          force (bool): Force reprogramming of bitstream. If False, only program bitstream if no bitstream\n",
      " |              is currently programmed. Optional.\n",
      " |      \n",
      " |      Returns:\n",
      " |          True if connection is successful, False otherwise\n",
      " |      \n",
      " |      .. versionchanged:: 5.5\n",
      " |          Added idProduct, bitstream, and force parameters.\n",
      " |  \n",
      " |  dcmTimeout(self)\n",
      " |  \n",
      " |  default_setup(self, verbose=True, sleep=0.2)\n",
      " |      Sets up sane capture defaults for this scope\n",
      " |      \n",
      " |       *  25dB gain\n",
      " |       *  5000 capture samples\n",
      " |       *  0 sample offset\n",
      " |       *  rising edge trigger\n",
      " |       *  7.37MHz clock output on hs2\n",
      " |       *  4*7.37MHz ADC clock\n",
      " |       *  tio1 = serial rx\n",
      " |       *  tio2 = serial tx\n",
      " |       *  tio4 = highZ\n",
      " |       *  CDC settings change off\n",
      " |      \n",
      " |      .. versionadded:: 5.1\n",
      " |          Added default setup for OpenADC\n",
      " |  \n",
      " |  dis(self)\n",
      " |      Disconnects the current scope object.\n",
      " |      \n",
      " |      Returns:\n",
      " |          True if the disconnection was successful, False otherwise.\n",
      " |  \n",
      " |  enable_MPSSE(self, enable=True, husky_userio=None, scope_default_setup=True)\n",
      " |      Enable/disable MPSSE mode. Results in a :code:`default_setup()` and scope disconnection\n",
      " |      \n",
      " |      Args:\n",
      " |          enable (bool): Enable or disable. Optional, defaults to True\n",
      " |          husky_userio (str or None): Enables communication using the Husky's user IO pins.\n",
      " |              If \"jtag\", route jtag over those pins. If \"swd\", route swd. If None, do not route.\n",
      " |              Optional, defaults to None\n",
      " |          scope_default_setup (bool): Calls `default_setup()` before enabling JTAG mode (resets clock,\n",
      " |              IOs, etc to default). Useful when working with standard targets, but set this to `False`\n",
      " |              if you had non-standard setup.\n",
      " |  \n",
      " |  finish_mpsse_setup(self, set_defaults=True)\n",
      " |  \n",
      " |  fpga_reg_read(self, addr, numbytes)\n",
      " |      Convenience method to read an FPGA register. Intended for debug/development.\n",
      " |      Args:\n",
      " |          addr (int): FPGA address to read.\n",
      " |          numbytes (int): number of bytes to read.\n",
      " |      \n",
      " |      Returns:\n",
      " |          read result: list of <numbytes> bytes.\n",
      " |      \n",
      " |      .. versionadded:: 5.6.1\n",
      " |      \n",
      " |      :meta private:\n",
      " |  \n",
      " |  fpga_reg_write(self, addr, listofbytes)\n",
      " |      Convenience method to write an FPGA register. Intended for debug/development.\n",
      " |      Args:\n",
      " |          addr (int): FPGA address to write.\n",
      " |          listofbytes (int array): list of bytes to write.\n",
      " |      \n",
      " |      .. versionadded:: 5.6.1\n",
      " |      \n",
      " |      :meta private:\n",
      " |  \n",
      " |  getCurrentScope(self) -> chipwhisperer.capture.scopes.openadc_interface.naeusbchip.OpenADCInterface_NAEUSBChip\n",
      " |  \n",
      " |  getLastTrace(self, as_int: bool = False) -> numpy.ndarray\n",
      " |      :deprecated: Use get_last_trace instead\n",
      " |      \n",
      " |      :meta private:\n",
      " |  \n",
      " |  get_last_trace(self, as_int: bool = False) -> numpy.ndarray\n",
      " |      Return the last trace captured with this scope.\n",
      " |      \n",
      " |      Can return traces as floating point values (:code:`as_int=False`)\n",
      " |      or as integers.\n",
      " |      \n",
      " |      Floating point values are scaled and shifted to be between -0.5 and 0.5.\n",
      " |      \n",
      " |      Integer values are raw readings from the ChipWhisperer ADC. The ChipWhisperer-Lite\n",
      " |      has a 10-bit ADC, the Nano has an 8-bit ADC, and the Husky can read either\n",
      " |      8-bits or 12-bits of ADC data.\n",
      " |      \n",
      " |      Args:\n",
      " |          as_int: If False, return trace as a float. Otherwise, return as an int.\n",
      " |      \n",
      " |      Returns:\n",
      " |         Numpy array of the last capture trace.\n",
      " |      \n",
      " |      .. versionchanged:: 5.6.1\n",
      " |          Added as_int parameter\n",
      " |  \n",
      " |  get_last_trace_segmented(self)\n",
      " |      Return last trace assuming it was captued with segmented mode.\n",
      " |      \n",
      " |      NOTE: The length of each returned trace is 1 less sample than requested.\n",
      " |      \n",
      " |      Returns:\n",
      " |          2-D numpy array of the last captured traces.\n",
      " |      \n",
      " |      .. versionadded:: 5.5\n",
      " |          Added segmented capture (requires custom bitstream)\n",
      " |  \n",
      " |  get_name(self)\n",
      " |      Gets the name of the attached scope\n",
      " |      \n",
      " |      Returns:\n",
      " |          'ChipWhisperer Lite' if a Lite, 'ChipWhisperer Pro' if a Pro, 'ChipWhisperer Husky' if a Husky\n",
      " |  \n",
      " |  glitch_disable(self)\n",
      " |      Disables glitch and glitch outputs\n",
      " |  \n",
      " |  reload_fpga(self, bitstream=None, reconnect=True, prog_speed=1000000.0)\n",
      " |      (Re)loads a FPGA bitstream (even if already configured).\n",
      " |      \n",
      " |      Will cause a reconnect event, all settings become default again.\n",
      " |      If no bitstream specified default is used based on current\n",
      " |      configuration settings.\n",
      " |      \n",
      " |      Args:\n",
      " |          bitstream (str or None): Path to new bitstream file. Optional, defaults to None\n",
      " |          reconnect (True): Whether or not to reconnect to the scope\n",
      " |          prog_speed (int): Speed at which to program the FPGA\n",
      " |  \n",
      " |  reset_fpga(self)\n",
      " |      Reset Husky FPGA. This causes all FPGA-based settings to return to their default values.\n",
      " |  \n",
      " |  scope_diff(self, scope_dict1, scope_dict2)\n",
      " |      Reports differences between two sets of scope settings.\n",
      " |      \n",
      " |      Args:\n",
      " |          scope_dict1, scope_dict2: dictionaries of scope settings (obtained\n",
      " |              with scope._dict_repr())\n",
      " |  \n",
      " |  setCurrentScope(self, scope: chipwhisperer.capture.scopes.openadc_interface.naeusbchip.OpenADCInterface_NAEUSBChip)\n",
      " |  \n",
      " |  try_wait_clkgen_locked(self, count, delay=0)\n",
      " |      Tries to wait for clkgen to lock.\n",
      " |      \n",
      " |      Return:\n",
      " |          True if clkgen locked within the timeout, else False for a timeout.\n",
      " |  \n",
      " |  vglitch_setup(self, glitcht, default_setup=True)\n",
      " |      Sets up sane defaults for voltage glitch\n",
      " |      \n",
      " |      * glitch clk_src = clkgen\n",
      " |      * output = glitch_only\n",
      " |      * trigger_src = ext_single\n",
      " |      * hs2 = clkgen\n",
      " |      * LP glitch if glitcht = 'lp' or 'both'\n",
      " |      * HP glitch if glitcht = 'hp' or 'both'\n",
      " |  \n",
      " |  ----------------------------------------------------------------------\n",
      " |  Readonly properties defined here:\n",
      " |  \n",
      " |  fpga_buildtime\n",
      " |      When the FPGA bitfile was generated. Husky only.\n",
      " |  \n",
      " |  ----------------------------------------------------------------------\n",
      " |  Data and other attributes defined here:\n",
      " |  \n",
      " |  DEFAULT_ADC_MUL = 4\n",
      " |  \n",
      " |  DEFAULT_ADC_SAMPLES = 5000\n",
      " |  \n",
      " |  DEFAULT_CLOCKGEN_FREQ = 7370000.0\n",
      " |  \n",
      " |  DEFAULT_GAIN_DB = 25\n",
      " |  \n",
      " |  ----------------------------------------------------------------------\n",
      " |  Methods inherited from chipwhisperer.common.utils.util.DisableNewAttr:\n",
      " |  \n",
      " |  __setattr__(self, name, value)\n",
      " |      Implement setattr(self, name, value).\n",
      " |  \n",
      " |  add_read_only(self, name)\n",
      " |  \n",
      " |  disable_newattr(self)\n",
      " |  \n",
      " |  disable_strict_newattr(self)\n",
      " |  \n",
      " |  enable_newattr(self)\n",
      " |  \n",
      " |  remove_read_only(self, name)\n",
      " |  \n",
      " |  ----------------------------------------------------------------------\n",
      " |  Data descriptors inherited from chipwhisperer.common.utils.util.DisableNewAttr:\n",
      " |  \n",
      " |  __dict__\n",
      " |      dictionary for instance variables (if defined)\n",
      " |  \n",
      " |  __weakref__\n",
      " |      list of weak references to the object (if defined)\n",
      " |  \n",
      " |  ----------------------------------------------------------------------\n",
      " |  Data and other attributes inherited from chipwhisperer.common.utils.util.DisableNewAttr:\n",
      " |  \n",
      " |  __annotations__ = {'_read_only_attrs': typing.List[str]}\n",
      " |  \n",
      " |  ----------------------------------------------------------------------\n",
      " |  Methods inherited from chipwhisperer.capture.api.cwcommon.ChipWhispererCommonInterface:\n",
      " |  \n",
      " |  check_feature(self, name, raise_exception=False)\n",
      " |      Check if a feature is available on this ChipWhisperer\n",
      " |  \n",
      " |  feature_list(self) -> List[str]\n",
      " |      Returns a list of supported features that depend on device/firmware version\n",
      " |  \n",
      " |  get_serial_ports(self) -> Optional[List[Dict[str, int]]]\n",
      " |      Get serial ports associated with a ChipWhisperer\n",
      " |      \n",
      " |      .. versionadded:: 5.5\n",
      " |          Add get_serial_ports()\n",
      " |  \n",
      " |  reset_sam3u(self)\n",
      " |      Reset the ChipWhisperer's microcontroller\n",
      " |      \n",
      " |      .. versionadded:: 5.6.1\n",
      " |          Add common cw interface\n",
      " |  \n",
      " |  upgrade_firmware(self, fw_path=None)\n",
      " |      Attempt a firmware upgrade. See https://chipwhisperer.readthedocs.io/en/latest/firmware.html for more information.\n",
      " |      \n",
      " |      .. versionadded:: 5.6.1\n",
      " |          Improved programming interface\n",
      " |  \n",
      " |  was_fpga_prog_on_con(self)\n",
      " |      Whether or not the ChipWhisperer's FPGA was programmed last time it was connected to\n",
      " |      \n",
      " |      Will raise NotImplementedError if the device does not have an FPGA.\n",
      " |      \n",
      " |      Returns:\n",
      " |          True if the FPGA was programmed, False otherwise.\n",
      " |  \n",
      " |  ----------------------------------------------------------------------\n",
      " |  Readonly properties inherited from chipwhisperer.capture.api.cwcommon.ChipWhispererCommonInterface:\n",
      " |  \n",
      " |  fw_version\n",
      " |      Get current firmware version as a dict with elements major, minor and debug\n",
      " |  \n",
      " |  fw_version_str\n",
      " |      A string of the firmware version:: \n",
      " |      \n",
      " |      'x.y.z'\n",
      " |  \n",
      " |  latest_fw\n",
      " |      Get the newest firmware as a dict with elements major, minor and debug\n",
      " |  \n",
      " |  latest_fw_str\n",
      " |  \n",
      " |  sam_build_date\n",
      " |      The date the SAM3U firmware was built on\n",
      " |      \n",
      " |      .. versionadded:: 5.6.1\n",
      " |          Added sam build date to chipwhisperer\n",
      " |  \n",
      " |  sn\n",
      " |      The USB serial number of this scope. \n",
      " |      \n",
      " |      Can be passed to cw.scope() to specify which ChipWhisperer to connect to\n",
      "\n"
     ]
    }
   ],
   "source": [
    "help(scope)"
   ]
  },
  {
   "cell_type": "markdown",
   "metadata": {},
   "source": [
    "We'll also need to setup the interface to the target (typically what we want to attack). Like with scopes, there's a few different interfaces we can use, which are available through `scope.targets.<target_type>`. The default, SimpleSerial, communicates over UART and is almost always the correct choice."
   ]
  },
  {
   "cell_type": "code",
   "execution_count": 79,
   "metadata": {},
   "outputs": [],
   "source": [
    "target = cw.target(scope, cw.targets.SimpleSerial)"
   ]
  },
  {
   "cell_type": "markdown",
   "metadata": {},
   "source": [
    "Next, we'll do some basic setup. Most of these settings don't matter for now, but take note of the `scope.clock` and `scope.io`, which setup the clock and serial io lines, which needs to be done before programming the target. \n",
    "\n",
    "**Some targets require settings different than what's below. Check the relevant wiki article for your target for more information**"
   ]
  },
  {
   "cell_type": "code",
   "execution_count": 80,
   "metadata": {},
   "outputs": [],
   "source": [
    "# setup scope parameters\n",
    "if SCOPETYPE == \"OPENADC\":\n",
    "    scope.gain.db = 45\n",
    "    scope.adc.samples = 3000\n",
    "    scope.adc.offset = 1250\n",
    "    scope.adc.basic_mode = \"rising_edge\"\n",
    "    scope.clock.clkgen_freq = 7370000\n",
    "    scope.clock.adc_src = \"clkgen_x4\"\n",
    "    scope.trigger.triggers = \"tio4\"\n",
    "    scope.io.tio1 = \"serial_rx\"\n",
    "    scope.io.tio2 = \"serial_tx\"\n",
    "    scope.io.hs2 = \"clkgen\"\n",
    "elif SCOPETYPE == \"CWNANO\":\n",
    "    scope.io.clkout = 7370000\n",
    "    scope.adc.clk_freq = 7370000\n",
    "    scope.io.tio1 = \"serial_rx\"\n",
    "    scope.io.tio2 = \"serial_tx\""
   ]
  },
  {
   "cell_type": "markdown",
   "metadata": {},
   "source": [
    "Or, more simply:"
   ]
  },
  {
   "cell_type": "code",
   "execution_count": 51,
   "metadata": {},
   "outputs": [
    {
     "name": "stdout",
     "output_type": "stream",
     "text": [
      "scope.gain.mode                          changed from low                       to high                     \n",
      "scope.gain.gain                          changed from 0                         to 30                       \n",
      "scope.gain.db                            changed from 5.5                       to 24.8359375               \n",
      "scope.adc.basic_mode                     changed from low                       to rising_edge              \n",
      "scope.adc.samples                        changed from 24400                     to 5000                     \n",
      "scope.adc.trig_count                     changed from 1064091651                to 1078160381               \n",
      "scope.clock.adc_src                      changed from clkgen_x1                 to clkgen_x4                \n",
      "scope.clock.adc_freq                     changed from 96000000                  to 28591678                 \n",
      "scope.clock.adc_rate                     changed from 96000000.0                to 28591678.0               \n",
      "scope.clock.clkgen_div                   changed from 1                         to 26                       \n",
      "scope.clock.clkgen_freq                  changed from 192000000.0               to 7384615.384615385        \n",
      "scope.io.tio1                            changed from serial_tx                 to serial_rx                \n",
      "scope.io.tio2                            changed from serial_rx                 to serial_tx                \n",
      "scope.io.hs2                             changed from None                      to clkgen                   \n",
      "scope.io.tio_states                      changed from (1, 0, 0, 0)              to (1, 1, 0, 0)             \n"
     ]
    }
   ],
   "source": [
    "scope.default_setup()"
   ]
  },
  {
   "cell_type": "markdown",
   "metadata": {},
   "source": [
    "Now that the clock and IO lines are setup, we can program the target. ChipWhisperer includes a generic programming function, `cw.program_target(scope, type, fw_path)`. Here `type` is one of the programmers available in the cw.programmers submodule (`help(cw.programmers)` for more information). `fw_path` is the path to the hex file that you want to flash onto the device.\n",
    "\n",
    "The final part of the binary path should match your platform (`<path>/simpleserial-base-CWLITEARM.hex` for CWLITEARM)"
   ]
  },
  {
   "cell_type": "code",
   "execution_count": 81,
   "metadata": {},
   "outputs": [],
   "source": [
    "if \"STM\" in PLATFORM or PLATFORM == \"CWLITEARM\" or PLATFORM == \"CWNANO\":\n",
    "    prog = cw.programmers.STM32FProgrammer\n",
    "elif PLATFORM == \"CW303\" or PLATFORM == \"CWLITEXMEGA\":\n",
    "    prog = cw.programmers.XMEGAProgrammer\n",
    "else:\n",
    "    prog = None\n",
    "    \n",
    "# fw_path = '../hardware/victims/firmware/simpleserial-base-lab1/simpleserial-base-{}.hex'.format(PLATFORM)\n",
    "fw_path = '../../firmware/mcu/simpleserial-base-lab1/simpleserial-base-{}.hex'.format(PLATFORM)"
   ]
  },
  {
   "cell_type": "markdown",
   "metadata": {},
   "source": [
    "And finally actually programming the device:"
   ]
  },
  {
   "cell_type": "code",
   "execution_count": 82,
   "metadata": {},
   "outputs": [
    {
     "name": "stdout",
     "output_type": "stream",
     "text": [
      "XMEGA Programming flash...\n",
      "XMEGA Reading flash...\n",
      "Verified flash OK, 2271 bytes\n"
     ]
    }
   ],
   "source": [
    "cw.program_target(scope, prog, fw_path)"
   ]
  },
  {
   "cell_type": "markdown",
   "metadata": {},
   "source": [
    "Finally, we'll load some text, send it to the target, and read it back. We also capture a trace here, but don't do anything with it yet (that will come in later tutorials). You should see your original text with the received text below it."
   ]
  },
  {
   "cell_type": "code",
   "execution_count": 89,
   "metadata": {},
   "outputs": [
    {
     "name": "stdout",
     "output_type": "stream",
     "text": [
      "Turning LED on...\n",
      "Response: a00\n",
      "z00\n",
      "\n"
     ]
    },
    {
     "name": "stderr",
     "output_type": "stream",
     "text": [
      "(ChipWhisperer Scope WARNING|File _OpenADCInterface.py:732) Timeout in OpenADC capture(), no trigger seen! Trigger forced, data is invalid. Status: 0b\n",
      "(ChipWhisperer Scope WARNING|File _OpenADCInterface.py:732) Timeout in OpenADC capture(), no trigger seen! Trigger forced, data is invalid. Status: 0a\n"
     ]
    },
    {
     "name": "stdout",
     "output_type": "stream",
     "text": [
      "Capture failed!\n"
     ]
    },
    {
     "name": "stderr",
     "output_type": "stream",
     "text": [
      "(ChipWhisperer Scope WARNING|File _OpenADCInterface.py:732) Timeout in OpenADC capture(), no trigger seen! Trigger forced, data is invalid. Status: 0b\n",
      "(ChipWhisperer Scope WARNING|File _OpenADCInterface.py:732) Timeout in OpenADC capture(), no trigger seen! Trigger forced, data is invalid. Status: 0a\n"
     ]
    },
    {
     "name": "stdout",
     "output_type": "stream",
     "text": [
      "Capture failed!\n"
     ]
    },
    {
     "name": "stderr",
     "output_type": "stream",
     "text": [
      "(ChipWhisperer Scope WARNING|File _OpenADCInterface.py:732) Timeout in OpenADC capture(), no trigger seen! Trigger forced, data is invalid. Status: 0b\n",
      "(ChipWhisperer Scope WARNING|File _OpenADCInterface.py:732) Timeout in OpenADC capture(), no trigger seen! Trigger forced, data is invalid. Status: 08\n"
     ]
    },
    {
     "name": "stdout",
     "output_type": "stream",
     "text": [
      "Capture failed!\n"
     ]
    },
    {
     "name": "stderr",
     "output_type": "stream",
     "text": [
      "(ChipWhisperer Scope WARNING|File _OpenADCInterface.py:732) Timeout in OpenADC capture(), no trigger seen! Trigger forced, data is invalid. Status: 0b\n",
      "(ChipWhisperer Scope WARNING|File _OpenADCInterface.py:732) Timeout in OpenADC capture(), no trigger seen! Trigger forced, data is invalid. Status: 08\n"
     ]
    },
    {
     "name": "stdout",
     "output_type": "stream",
     "text": [
      "Capture failed!\n"
     ]
    },
    {
     "name": "stderr",
     "output_type": "stream",
     "text": [
      "(ChipWhisperer Scope WARNING|File _OpenADCInterface.py:732) Timeout in OpenADC capture(), no trigger seen! Trigger forced, data is invalid. Status: 0b\n",
      "(ChipWhisperer Scope WARNING|File _OpenADCInterface.py:732) Timeout in OpenADC capture(), no trigger seen! Trigger forced, data is invalid. Status: 08\n"
     ]
    },
    {
     "name": "stdout",
     "output_type": "stream",
     "text": [
      "Capture failed!\n",
      "No power samples collected!\n",
      "Turning LED off...\n",
      "Response: a01\n",
      "z00\n",
      "\n"
     ]
    }
   ],
   "source": [
    "# ktp = cw.ktp.Basic() # object to generate fixed/random key and text (default fixed key, random text)\n",
    "# key, text = ktp.next()  # get our fixed key and random text\n",
    "\n",
    "# target.simpleserial_write('k', key)\n",
    "# target.simpleserial_wait_ack()\n",
    "# scope.arm()\n",
    "\n",
    "# target.simpleserial_write('p', text)\n",
    "    \n",
    "# ret = scope.capture()\n",
    "# trace = scope.get_last_trace()\n",
    "# output = target.simpleserial_read('r', 16)\n",
    "\n",
    "# from binascii import hexlify\n",
    "# print(hexlify(output))\n",
    "# print(hexlify(text))\n",
    "# ----------------------------------------------------------\n",
    "# print(\"Turning LED on...\")\n",
    "# target.write(\"l01\\n\")\n",
    "# response = target.read()\n",
    "# print(f\"Response: {response}\")\n",
    "# import time\n",
    "# time.sleep(10)\n",
    "# # Turn LED off\n",
    "# print(\"Turning LED off...\")\n",
    "# target.write(\"l00\\n\")\n",
    "# response = target.read()\n",
    "# print(f\"Response: {response}\")\n",
    "# ----------------------------------------------------------\n",
    "# Turn LED on\n",
    "import time\n",
    "print(\"Turning LED on...\")\n",
    "target.write(\"l01\\n\")\n",
    "response = target.read()\n",
    "print(f\"Response: {response}\")\n",
    "\n",
    "# Start measuring power\n",
    "SHUNT_RESISTOR = 10  # Shunt resistor value in ohms\n",
    "SUPPLY_VOLTAGE = 3.3  # Target supply voltage in volts\n",
    "\n",
    "power_samples = []\n",
    "\n",
    "# Measure power for 10 seconds\n",
    "start_time = time.time()\n",
    "while time.time() - start_time < 10:\n",
    "    scope.arm()  # Prepare the scope to capture\n",
    "    if scope.capture():\n",
    "        print(\"Capture failed!\")\n",
    "    else:\n",
    "        trace = scope.get_last_trace()\n",
    "        # Calculate power for this trace\n",
    "        current = [v / SHUNT_RESISTOR for v in trace]  # Current in amps\n",
    "        power = [i * SUPPLY_VOLTAGE * 1e6 for i in current]  # Power in µW\n",
    "        power_samples.extend(power)\n",
    "\n",
    "# Calculate average power consumption\n",
    "if power_samples:\n",
    "    avg_power = sum(power_samples) / len(power_samples)\n",
    "    print(f\"Average Power Consumption While LED On: {avg_power:.2f} µW\")\n",
    "else:\n",
    "    print(\"No power samples collected!\")\n",
    "\n",
    "# Turn LED off\n",
    "print(\"Turning LED off...\")\n",
    "target.write(\"l00\\n\")\n",
    "response = target.read()\n",
    "print(f\"Response: {response}\")\n"
   ]
  },
  {
   "cell_type": "markdown",
   "metadata": {},
   "source": [
    "You can also just run:"
   ]
  },
  {
   "cell_type": "code",
   "execution_count": 42,
   "metadata": {},
   "outputs": [
    {
     "ename": "OSError",
     "evalue": "Scope is not connected. Connect it first...",
     "output_type": "error",
     "traceback": [
      "\u001b[0;31m---------------------------------------------------------------------------\u001b[0m",
      "\u001b[0;31mOSError\u001b[0m                                   Traceback (most recent call last)",
      "Cell \u001b[0;32mIn[42], line 1\u001b[0m\n\u001b[0;32m----> 1\u001b[0m ret \u001b[38;5;241m=\u001b[39m \u001b[43mcw\u001b[49m\u001b[38;5;241;43m.\u001b[39;49m\u001b[43mcapture_trace\u001b[49m\u001b[43m(\u001b[49m\u001b[43mscope\u001b[49m\u001b[43m,\u001b[49m\u001b[43m \u001b[49m\u001b[43mtarget\u001b[49m\u001b[43m,\u001b[49m\u001b[43m \u001b[49m\u001b[43mtext\u001b[49m\u001b[43m,\u001b[49m\u001b[43m \u001b[49m\u001b[43mkey\u001b[49m\u001b[43m)\u001b[49m\n\u001b[1;32m      2\u001b[0m \u001b[38;5;28;01mif\u001b[39;00m ret:\n\u001b[1;32m      3\u001b[0m     trace \u001b[38;5;241m=\u001b[39m ret\n",
      "File \u001b[0;32m~/Chipwhispere_vscode/cw_env/lib/python3.9/site-packages/chipwhisperer-5.7.0-py3.9.egg/chipwhisperer/__init__.py:497\u001b[0m, in \u001b[0;36mcapture_trace\u001b[0;34m(scope, target, plaintext, key, ack, poll_done, as_int, always_send_key)\u001b[0m\n\u001b[1;32m    494\u001b[0m \u001b[38;5;28;01mif\u001b[39;00m key:\n\u001b[1;32m    495\u001b[0m     target\u001b[38;5;241m.\u001b[39mset_key(key, ack\u001b[38;5;241m=\u001b[39mack, always_send\u001b[38;5;241m=\u001b[39malways_send_key)\n\u001b[0;32m--> 497\u001b[0m \u001b[43mscope\u001b[49m\u001b[38;5;241;43m.\u001b[39;49m\u001b[43marm\u001b[49m\u001b[43m(\u001b[49m\u001b[43m)\u001b[49m\n\u001b[1;32m    499\u001b[0m \u001b[38;5;28;01mif\u001b[39;00m plaintext:\n\u001b[1;32m    500\u001b[0m     target\u001b[38;5;241m.\u001b[39msimpleserial_write(\u001b[38;5;124m'\u001b[39m\u001b[38;5;124mp\u001b[39m\u001b[38;5;124m'\u001b[39m, plaintext)\n",
      "File \u001b[0;32m~/Chipwhispere_vscode/cw_env/lib/python3.9/site-packages/chipwhisperer-5.7.0-py3.9.egg/chipwhisperer/capture/scopes/OpenADC.py:798\u001b[0m, in \u001b[0;36mOpenADC.arm\u001b[0;34m(self)\u001b[0m\n\u001b[1;32m    787\u001b[0m \u001b[38;5;250m\u001b[39m\u001b[38;5;124;03m\"\"\"Setup scope to begin capture/glitching when triggered.\u001b[39;00m\n\u001b[1;32m    788\u001b[0m \n\u001b[1;32m    789\u001b[0m \u001b[38;5;124;03mThe scope must be armed before capture or glitching (when set to\u001b[39;00m\n\u001b[0;32m   (...)\u001b[0m\n\u001b[1;32m    795\u001b[0m \u001b[38;5;124;03m       disconnects before reraising them.\u001b[39;00m\n\u001b[1;32m    796\u001b[0m \u001b[38;5;124;03m\"\"\"\u001b[39;00m\n\u001b[1;32m    797\u001b[0m \u001b[38;5;28;01mif\u001b[39;00m \u001b[38;5;28mself\u001b[39m\u001b[38;5;241m.\u001b[39m_is_connected \u001b[38;5;129;01mis\u001b[39;00m \u001b[38;5;28;01mFalse\u001b[39;00m:\n\u001b[0;32m--> 798\u001b[0m     \u001b[38;5;28;01mraise\u001b[39;00m \u001b[38;5;167;01mOSError\u001b[39;00m(\u001b[38;5;124m\"\u001b[39m\u001b[38;5;124mScope is not connected. Connect it first...\u001b[39m\u001b[38;5;124m\"\u001b[39m)\n\u001b[1;32m    799\u001b[0m \u001b[38;5;66;03m# with DelayedKeyboardInterrupt():\u001b[39;00m\n\u001b[1;32m    800\u001b[0m \u001b[38;5;28;01mtry\u001b[39;00m:\n",
      "\u001b[0;31mOSError\u001b[0m: Scope is not connected. Connect it first..."
     ]
    }
   ],
   "source": [
    "ret = cw.capture_trace(scope, target, text, key)\n",
    "if ret:\n",
    "    trace = ret\n",
    "    print(hexlify(ret.textout))\n",
    "    print(hexlify(text))"
   ]
  },
  {
   "cell_type": "markdown",
   "metadata": {},
   "source": [
    "Now that we're done with this tutorial, we'll need to disconnect from the ChipWhisperer. This will prevent this session from interfering from later ones (most notably with a `USB can't claim interface` error). Don't worry if you forget, unplugging and replugging the ChipWhipserer should fix it."
   ]
  },
  {
   "cell_type": "code",
   "execution_count": 68,
   "metadata": {},
   "outputs": [],
   "source": [
    "scope.dis()\n",
    "target.dis()"
   ]
  },
  {
   "cell_type": "markdown",
   "metadata": {},
   "source": [
    "## Future Tutorials"
   ]
  },
  {
   "cell_type": "markdown",
   "metadata": {},
   "source": [
    "The next tutorials that you run will start using helper scripts to make setup a little faster and more consistent between tutorials. Those scripts run mostly the same setup code that we did here, but if you'd like to see exactly what they're doing, they're all included in the `Helper_Scripts` folder.\n",
    "\n",
    "For example, the scope setup (gain, clock, etc) is taken care of by `Helper Scripts/Setup_Generic.ipynb`."
   ]
  }
 ],
 "metadata": {
  "kernelspec": {
   "display_name": "cw_env",
   "language": "python",
   "name": "python3"
  },
  "language_info": {
   "codemirror_mode": {
    "name": "ipython",
    "version": 3
   },
   "file_extension": ".py",
   "mimetype": "text/x-python",
   "name": "python",
   "nbconvert_exporter": "python",
   "pygments_lexer": "ipython3",
   "version": "3.9.5"
  }
 },
 "nbformat": 4,
 "nbformat_minor": 2
}
